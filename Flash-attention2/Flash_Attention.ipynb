{
  "nbformat": 4,
  "nbformat_minor": 0,
  "metadata": {
    "colab": {
      "provenance": [],
      "gpuType": "A100"
    },
    "kernelspec": {
      "name": "python3",
      "display_name": "Python 3"
    },
    "language_info": {
      "name": "python"
    }
  },
  "cells": [
    {
      "cell_type": "code",
      "source": [
        "# Check Colab's OS and architecture to get the correct download link\n",
        "!cat /etc/os-release | grep \"VERSION_ID\"\n",
        "!echo \"Machine's architecture: `uname -i`\"\n",
        "\n",
        "# Download and install Nsight Systems (example for Ubuntu 22.04)\n",
        "!wget https://developer.download.nvidia.com/compute/cuda/repos/ubuntu2204/x86_64/nsight-systems-2023.2.3_2023.2.3.1001-1_amd64.deb\n",
        "!apt update\n",
        "!apt install ./nsight-systems-2023.2.3_2023.2.3.1001-1_amd64.deb\n",
        "!apt --fix-broken install\n"
      ],
      "metadata": {
        "colab": {
          "base_uri": "https://localhost:8080/"
        },
        "id": "BrTDxO4jSeTA",
        "outputId": "cbcf03a2-6267-44ab-83a0-6a2947518c84"
      },
      "execution_count": null,
      "outputs": [
        {
          "output_type": "stream",
          "name": "stdout",
          "text": [
            "VERSION_ID=\"22.04\"\n",
            "Machine's architecture: x86_64\n",
            "--2025-07-30 03:05:29--  https://developer.download.nvidia.com/compute/cuda/repos/ubuntu2204/x86_64/nsight-systems-2023.2.3_2023.2.3.1001-1_amd64.deb\n",
            "Resolving developer.download.nvidia.com (developer.download.nvidia.com)... 23.40.40.50, 23.40.40.11, 23.40.40.43, ...\n",
            "Connecting to developer.download.nvidia.com (developer.download.nvidia.com)|23.40.40.50|:443... connected.\n",
            "HTTP request sent, awaiting response... 200 OK\n",
            "Length: 317705436 (303M) [application/x-deb]\n",
            "Saving to: ‘nsight-systems-2023.2.3_2023.2.3.1001-1_amd64.deb’\n",
            "\n",
            "nsight-systems-2023 100%[===================>] 302.99M  2.31MB/s    in 1m 57s  \n",
            "\n",
            "2025-07-30 03:07:28 (2.59 MB/s) - ‘nsight-systems-2023.2.3_2023.2.3.1001-1_amd64.deb’ saved [317705436/317705436]\n",
            "\n",
            "Hit:1 https://developer.download.nvidia.com/compute/cuda/repos/ubuntu2204/x86_64  InRelease\n",
            "Get:2 https://cloud.r-project.org/bin/linux/ubuntu jammy-cran40/ InRelease [3,632 B]\n",
            "Get:3 http://security.ubuntu.com/ubuntu jammy-security InRelease [129 kB]\n",
            "Hit:4 http://archive.ubuntu.com/ubuntu jammy InRelease\n",
            "Get:5 http://archive.ubuntu.com/ubuntu jammy-updates InRelease [128 kB]\n",
            "Hit:6 https://ppa.launchpadcontent.net/deadsnakes/ppa/ubuntu jammy InRelease\n",
            "Hit:7 https://ppa.launchpadcontent.net/graphics-drivers/ppa/ubuntu jammy InRelease\n",
            "Hit:8 https://ppa.launchpadcontent.net/ubuntugis/ppa/ubuntu jammy InRelease\n",
            "Get:9 https://r2u.stat.illinois.edu/ubuntu jammy InRelease [6,555 B]\n",
            "Get:10 http://archive.ubuntu.com/ubuntu jammy-backports InRelease [127 kB]\n",
            "Get:11 https://r2u.stat.illinois.edu/ubuntu jammy/main amd64 Packages [2,775 kB]\n",
            "Get:12 http://security.ubuntu.com/ubuntu jammy-security/universe amd64 Packages [1,269 kB]\n",
            "Get:13 http://archive.ubuntu.com/ubuntu jammy-updates/main amd64 Packages [3,514 kB]\n",
            "Get:14 http://archive.ubuntu.com/ubuntu jammy-updates/universe amd64 Packages [1,574 kB]\n",
            "Get:15 http://archive.ubuntu.com/ubuntu jammy-updates/restricted amd64 Packages [5,273 kB]\n",
            "Get:16 http://security.ubuntu.com/ubuntu jammy-security/restricted amd64 Packages [5,066 kB]\n",
            "Get:17 http://security.ubuntu.com/ubuntu jammy-security/main amd64 Packages [3,197 kB]\n",
            "Get:18 https://r2u.stat.illinois.edu/ubuntu jammy/main all Packages [9,161 kB]\n",
            "Fetched 32.2 MB in 5s (6,901 kB/s)\n",
            "Reading package lists... Done\n",
            "Building dependency tree... Done\n",
            "Reading state information... Done\n",
            "42 packages can be upgraded. Run 'apt list --upgradable' to see them.\n",
            "\u001b[1;33mW: \u001b[0mSkipping acquire of configured file 'main/source/Sources' as repository 'https://r2u.stat.illinois.edu/ubuntu jammy InRelease' does not seem to provide it (sources.list entry misspelt?)\u001b[0m\n",
            "Reading package lists... Done\n",
            "Building dependency tree... Done\n",
            "Reading state information... Done\n",
            "Note, selecting 'nsight-systems-2023.2.3' instead of './nsight-systems-2023.2.3_2023.2.3.1001-1_amd64.deb'\n",
            "The following additional packages will be installed:\n",
            "  libtinfo5 libxcb-icccm4 libxcb-image0 libxcb-keysyms1 libxcb-render-util0\n",
            "  libxcb-util1 libxcb-xinerama0 libxcb-xinput0 libxcb-xkb1 libxkbcommon-x11-0\n",
            "  libxtst6\n",
            "The following NEW packages will be installed:\n",
            "  libtinfo5 libxcb-icccm4 libxcb-image0 libxcb-keysyms1 libxcb-render-util0\n",
            "  libxcb-util1 libxcb-xinerama0 libxcb-xinput0 libxcb-xkb1 libxkbcommon-x11-0\n",
            "  libxtst6 nsight-systems-2023.2.3\n",
            "0 upgraded, 12 newly installed, 0 to remove and 42 not upgraded.\n",
            "Need to get 318 MB of archives.\n",
            "After this operation, 1,269 kB of additional disk space will be used.\n",
            "Get:1 http://archive.ubuntu.com/ubuntu jammy-updates/universe amd64 libtinfo5 amd64 6.3-2ubuntu0.1 [100 kB]\n",
            "Get:2 https://developer.download.nvidia.com/compute/cuda/repos/ubuntu2204/x86_64  nsight-systems-2023.2.3 2023.2.3.1001-32894139v0 [318 MB]\n",
            "Get:3 http://archive.ubuntu.com/ubuntu jammy/main amd64 libxcb-xinerama0 amd64 1.14-3ubuntu3 [5,414 B]\n",
            "Get:4 http://archive.ubuntu.com/ubuntu jammy/main amd64 libxcb-xinput0 amd64 1.14-3ubuntu3 [34.3 kB]\n",
            "Get:5 http://archive.ubuntu.com/ubuntu jammy/main amd64 libxcb-xkb1 amd64 1.14-3ubuntu3 [32.8 kB]\n",
            "Get:6 http://archive.ubuntu.com/ubuntu jammy/main amd64 libxkbcommon-x11-0 amd64 1.4.0-1 [14.4 kB]\n",
            "Get:7 http://archive.ubuntu.com/ubuntu jammy/main amd64 libxtst6 amd64 2:1.2.3-1build4 [13.4 kB]\n",
            "Get:8 http://archive.ubuntu.com/ubuntu jammy/main amd64 libxcb-icccm4 amd64 0.4.1-1.1build2 [11.5 kB]\n",
            "Get:9 http://archive.ubuntu.com/ubuntu jammy/main amd64 libxcb-util1 amd64 0.4.0-1build2 [11.4 kB]\n",
            "Get:10 http://archive.ubuntu.com/ubuntu jammy/main amd64 libxcb-image0 amd64 0.4.0-2 [11.5 kB]\n",
            "Get:11 http://archive.ubuntu.com/ubuntu jammy/main amd64 libxcb-keysyms1 amd64 0.4.0-1build3 [8,746 B]\n",
            "Get:12 http://archive.ubuntu.com/ubuntu jammy/main amd64 libxcb-render-util0 amd64 0.3.9-1build3 [10.3 kB]\n",
            "Fetched 318 MB in 1min 41s (3,141 kB/s)\n",
            "Selecting previously unselected package libtinfo5:amd64.\n",
            "(Reading database ... 126284 files and directories currently installed.)\n",
            "Preparing to unpack .../00-libtinfo5_6.3-2ubuntu0.1_amd64.deb ...\n",
            "Unpacking libtinfo5:amd64 (6.3-2ubuntu0.1) ...\n",
            "Selecting previously unselected package libxcb-xinerama0:amd64.\n",
            "Preparing to unpack .../01-libxcb-xinerama0_1.14-3ubuntu3_amd64.deb ...\n",
            "Unpacking libxcb-xinerama0:amd64 (1.14-3ubuntu3) ...\n",
            "Selecting previously unselected package libxcb-xinput0:amd64.\n",
            "Preparing to unpack .../02-libxcb-xinput0_1.14-3ubuntu3_amd64.deb ...\n",
            "Unpacking libxcb-xinput0:amd64 (1.14-3ubuntu3) ...\n",
            "Selecting previously unselected package libxcb-xkb1:amd64.\n",
            "Preparing to unpack .../03-libxcb-xkb1_1.14-3ubuntu3_amd64.deb ...\n",
            "Unpacking libxcb-xkb1:amd64 (1.14-3ubuntu3) ...\n",
            "Selecting previously unselected package libxkbcommon-x11-0:amd64.\n",
            "Preparing to unpack .../04-libxkbcommon-x11-0_1.4.0-1_amd64.deb ...\n",
            "Unpacking libxkbcommon-x11-0:amd64 (1.4.0-1) ...\n",
            "Selecting previously unselected package libxtst6:amd64.\n",
            "Preparing to unpack .../05-libxtst6_2%3a1.2.3-1build4_amd64.deb ...\n",
            "Unpacking libxtst6:amd64 (2:1.2.3-1build4) ...\n",
            "Selecting previously unselected package libxcb-icccm4:amd64.\n",
            "Preparing to unpack .../06-libxcb-icccm4_0.4.1-1.1build2_amd64.deb ...\n",
            "Unpacking libxcb-icccm4:amd64 (0.4.1-1.1build2) ...\n",
            "Selecting previously unselected package libxcb-util1:amd64.\n",
            "Preparing to unpack .../07-libxcb-util1_0.4.0-1build2_amd64.deb ...\n",
            "Unpacking libxcb-util1:amd64 (0.4.0-1build2) ...\n",
            "Selecting previously unselected package libxcb-image0:amd64.\n",
            "Preparing to unpack .../08-libxcb-image0_0.4.0-2_amd64.deb ...\n",
            "Unpacking libxcb-image0:amd64 (0.4.0-2) ...\n",
            "Selecting previously unselected package libxcb-keysyms1:amd64.\n",
            "Preparing to unpack .../09-libxcb-keysyms1_0.4.0-1build3_amd64.deb ...\n",
            "Unpacking libxcb-keysyms1:amd64 (0.4.0-1build3) ...\n",
            "Selecting previously unselected package libxcb-render-util0:amd64.\n",
            "Preparing to unpack .../10-libxcb-render-util0_0.3.9-1build3_amd64.deb ...\n",
            "Unpacking libxcb-render-util0:amd64 (0.3.9-1build3) ...\n",
            "Selecting previously unselected package nsight-systems-2023.2.3.\n",
            "Preparing to unpack .../11-nsight-systems-2023.2.3_2023.2.3.1001-32894139v0_amd64.deb ...\n",
            "Unpacking nsight-systems-2023.2.3 (2023.2.3.1001-32894139v0) ...\n",
            "Setting up libxcb-xinput0:amd64 (1.14-3ubuntu3) ...\n",
            "Setting up libxtst6:amd64 (2:1.2.3-1build4) ...\n",
            "Setting up libxcb-keysyms1:amd64 (0.4.0-1build3) ...\n",
            "Setting up libxcb-render-util0:amd64 (0.3.9-1build3) ...\n",
            "Setting up libxcb-icccm4:amd64 (0.4.1-1.1build2) ...\n",
            "Setting up libxcb-util1:amd64 (0.4.0-1build2) ...\n",
            "Setting up libxcb-xkb1:amd64 (1.14-3ubuntu3) ...\n",
            "Setting up libxcb-image0:amd64 (0.4.0-2) ...\n",
            "Setting up libxcb-xinerama0:amd64 (1.14-3ubuntu3) ...\n",
            "Setting up libxkbcommon-x11-0:amd64 (1.4.0-1) ...\n",
            "Setting up libtinfo5:amd64 (6.3-2ubuntu0.1) ...\n",
            "Setting up nsight-systems-2023.2.3 (2023.2.3.1001-32894139v0) ...\n",
            "update-alternatives: using /opt/nvidia/nsight-systems/2023.2.3/target-linux-x64/nsys to provide /usr/local/bin/nsys (nsys) in auto mode\n",
            "update-alternatives: using /opt/nvidia/nsight-systems/2023.2.3/host-linux-x64/nsys-ui to provide /usr/local/bin/nsys-ui (nsys-ui) in auto mode\n",
            "Processing triggers for mailcap (3.70+nmu1ubuntu1) ...\n",
            "Processing triggers for libc-bin (2.35-0ubuntu3.8) ...\n",
            "/sbin/ldconfig.real: /usr/local/lib/libtbbbind.so.3 is not a symbolic link\n",
            "\n",
            "/sbin/ldconfig.real: /usr/local/lib/libur_adapter_level_zero.so.0 is not a symbolic link\n",
            "\n",
            "/sbin/ldconfig.real: /usr/local/lib/libur_loader.so.0 is not a symbolic link\n",
            "\n",
            "/sbin/ldconfig.real: /usr/local/lib/libtcm_debug.so.1 is not a symbolic link\n",
            "\n",
            "/sbin/ldconfig.real: /usr/local/lib/libtbbbind_2_5.so.3 is not a symbolic link\n",
            "\n",
            "/sbin/ldconfig.real: /usr/local/lib/libtbbbind_2_0.so.3 is not a symbolic link\n",
            "\n",
            "/sbin/ldconfig.real: /usr/local/lib/libtbbmalloc.so.2 is not a symbolic link\n",
            "\n",
            "/sbin/ldconfig.real: /usr/local/lib/libur_adapter_opencl.so.0 is not a symbolic link\n",
            "\n",
            "/sbin/ldconfig.real: /usr/local/lib/libtbb.so.12 is not a symbolic link\n",
            "\n",
            "/sbin/ldconfig.real: /usr/local/lib/libtbbmalloc_proxy.so.2 is not a symbolic link\n",
            "\n",
            "/sbin/ldconfig.real: /usr/local/lib/libumf.so.0 is not a symbolic link\n",
            "\n",
            "/sbin/ldconfig.real: /usr/local/lib/libhwloc.so.15 is not a symbolic link\n",
            "\n",
            "/sbin/ldconfig.real: /usr/local/lib/libur_adapter_level_zero_v2.so.0 is not a symbolic link\n",
            "\n",
            "/sbin/ldconfig.real: /usr/local/lib/libtcm.so.1 is not a symbolic link\n",
            "\n",
            "Reading package lists... Done\n",
            "Building dependency tree... Done\n",
            "Reading state information... Done\n",
            "0 upgraded, 0 newly installed, 0 to remove and 43 not upgraded.\n"
          ]
        }
      ]
    },
    {
      "cell_type": "markdown",
      "source": [
        "STEP 1: EMBED INPUT IDS AND PROJECT INTO Q, K, V"
      ],
      "metadata": {
        "id": "EvtkhBPBa2Mr"
      }
    },
    {
      "cell_type": "code",
      "source": [
        "# STEP 1: EMBED INPUT IDS AND PROJECT INTO Q, K, V\n",
        "\n",
        "import torch\n",
        "from torch import nn\n",
        "\n",
        "# --- config ---\n",
        "device = 'cuda'\n",
        "dtype  = torch.float32          # set to torch.float16 for mixed precision\n",
        "B, S   = 100, 128                # batch, seq_len\n",
        "H, D   = 8, 64                   # num heads, head dim\n",
        "E      = H * D                   # model dim\n",
        "Vocab  = 30522                   # fake vocab size\n",
        "\n",
        "torch.manual_seed(0)\n",
        "\n",
        "# --- inputs: token ids ---\n",
        "input_ids = torch.randint(0, Vocab, (B, S), device=device)\n",
        "\n",
        "# --- layers ---\n",
        "embed    = nn.Embedding(Vocab, E).to(device=device, dtype=dtype)\n",
        "qkv_proj = nn.Linear(E, 3 * E, bias=False).to(device=device, dtype=dtype)\n",
        "\n",
        "# --- forward: [B,S] -> [B,S,E] -> [B,S,3E] ---\n",
        "x   = embed(input_ids)                 # [B, S, E]\n",
        "qkv = qkv_proj(x)                      # [B, S, 3E]\n",
        "q, k, v = qkv.chunk(3, dim=-1)         # each [B, S, E]\n",
        "\n",
        "# --- reshape to [B,H,S,D] (attention-friendly) ---\n",
        "# go from [B,S,E] -> [B,S,H,D] -> [B,H,S,D]\n",
        "q = q.view(B, S, H, D).permute(0, 2, 1, 3).contiguous()\n",
        "k = k.view(B, S, H, D).permute(0, 2, 1, 3).contiguous()\n",
        "v = v.view(B, S, H, D).permute(0, 2, 1, 3).contiguous()\n",
        "\n",
        "print(\"input_ids:\", input_ids.shape)\n",
        "print(\"x (emb):  \", x.shape)\n",
        "print(\"q,k,v:    \", q.shape, k.shape, v.shape)   # all [B, H, S, D]\n"
      ],
      "metadata": {
        "colab": {
          "base_uri": "https://localhost:8080/"
        },
        "id": "ORm2WikYSg5B",
        "outputId": "4f1bc7b6-db89-4386-da8b-3e363a664b71"
      },
      "execution_count": null,
      "outputs": [
        {
          "output_type": "stream",
          "name": "stdout",
          "text": [
            "input_ids: torch.Size([100, 128])\n",
            "x (emb):   torch.Size([100, 128, 512])\n",
            "q,k,v:     torch.Size([100, 8, 128, 64]) torch.Size([100, 8, 128, 64]) torch.Size([100, 8, 128, 64])\n"
          ]
        }
      ]
    },
    {
      "cell_type": "markdown",
      "source": [
        "STEP 2: PYTORCH ATTENTION BASELINE CODE"
      ],
      "metadata": {
        "id": "gLCJqBtsgu8o"
      }
    },
    {
      "cell_type": "code",
      "source": [
        "import torch\n",
        "import torch.nn as nn\n",
        "\n",
        "def pytorch_attention(q, k,v, mask=None):\n",
        "  B, H, S,D = q.shape\n",
        "  scale=D**-0.5\n",
        "\n",
        "  attn_scores = torch.matmul(q, k.transpose(-2, -1))*scale\n",
        "  #if mask is not None:\n",
        "    #attn_scores = attn_scores.masked_fill(mask[:, None, None, :] == 0, float('-inf'))\n",
        "\n",
        "  attn_probs = torch.softmax(attn_scores, dim=-1)\n",
        "  out = torch.matmul(attn_probs,v)\n",
        "  return out\n",
        "\n",
        "out_pt = pytorch_attention(q, k,v)\n",
        "print(\"Output shape (PyTorch)\", out_pt.shape)\n",
        "\n",
        "\n",
        "#Pseudocode:\n",
        "#1.Compute attention scores, matmul(Q, K^T) shape = [B, H, S, S]\n",
        "#2. Scale scores by sqrt (D)\n",
        "#3. If mask is given\n",
        "   #Expand mask to shape [B,1,1,S]\n",
        "   #Set scores at masked position to -infinity\n",
        "#4. Apply softmax along last dimension (keys) shape = [B,H,S,S]\n",
        "#5. Compute weighted sum [ B,H,S,D]\n",
        "#6. Return output\n"
      ],
      "metadata": {
        "colab": {
          "base_uri": "https://localhost:8080/"
        },
        "id": "6Z7xod_Dftkm",
        "outputId": "8df565e2-4bf5-4124-999c-8fc4a5a21a57"
      },
      "execution_count": null,
      "outputs": [
        {
          "output_type": "stream",
          "name": "stdout",
          "text": [
            "Output shape (PyTorch) torch.Size([100, 8, 128, 64])\n"
          ]
        }
      ]
    },
    {
      "cell_type": "markdown",
      "source": [
        "STEP 3: FLASH ATTENTION 2 FORWARD PASS"
      ],
      "metadata": {
        "id": "NPndGxkvipSe"
      }
    },
    {
      "cell_type": "code",
      "source": [
        "\"\"\"\n",
        "Pseudocode:\n",
        "\n",
        "1. Initialize output O = zeros_like(Q) shape = [B,H,S,D]\n",
        "2. For each query block j = 0 to S step BLOCK_M:\n",
        "   2.1 Load Q_block = Q[..., j : j+BLOCK_M, :] shape = [B,H,BLOCK_M, D]\n",
        "   2.2 Initialize:\n",
        "        - m_j = -infinity (max logits per row)\n",
        "        - l_j = 0 (exp sum per row)\n",
        "        - acc_j = (accumulated output for Q_block)\n",
        "   2.3 For each block i=0 to S step BLOCK_N:\n",
        "       -load K_block = K[..., i: i+BLOCK_N, :] shape = [B,H, BLOCK_N, D]\n",
        "       -load V_block = V[..., i: I+N, :] shape = [B,H, BLOCK_N, D]\n",
        "       -compute scores = Q_block @ K_block^T/sqrt(D) shape = [B,H, BLOCK_M, BLOCK_N]\n",
        "       -(OPTIONAL: apply causal mask if  i> j)\n",
        "       - m_ij = max(scores, dim =-1)\n",
        "       - p_ij = exp(scores - m_ij)\n",
        "       - l_ij = sum(p_ij, dim=-1)\n",
        "       - acc_ij = p_ij @ V_block shape = [B,H, BLOCK_M, D]\n",
        "       - m_j , l_j, acc_j = online_softmax_update(m_j, l_j, acc_j, m_ij, l_ij, acc_ij)\n",
        "  2.4 Normalize:\n",
        "      O[..., j:j+BLOCK_M, :] = acc_j / l_j.unsqueeze(-1)\n",
        "3. Return O\n",
        "\"\"\"\n",
        "\n",
        "import torch\n",
        "import triton\n",
        "import triton.language as tl\n",
        "\n",
        "# ----------------------------\n",
        "# 1. Triton kernel (FlashAttention 2 forward)\n",
        "# ----------------------------\n",
        "@triton.jit\n",
        "def flashattn2_forward(\n",
        "    Q_ptr, K_ptr, V_ptr, Out_ptr,\n",
        "    stride_qb, stride_qh, stride_qs, stride_qd,\n",
        "    stride_kb, stride_kh, stride_ks, stride_kd,\n",
        "    stride_vb, stride_vh, stride_vs, stride_vd,\n",
        "    stride_ob, stride_oh, stride_os, stride_od,\n",
        "    B, H, S, D,\n",
        "    BLOCK_M: tl.constexpr,   # query‐block size\n",
        "    BLOCK_N: tl.constexpr,   # key/value‐block size\n",
        "    BLOCK_D: tl.constexpr    # head dimension (must == D)\n",
        "):\n",
        "    # Identify this program's (batch, head, query‐block)\n",
        "    batch_id = tl.program_id(0)\n",
        "    head_id  = tl.program_id(1)\n",
        "    start_m  = tl.program_id(2) * BLOCK_M\n",
        "\n",
        "    # Offsets in Q/K/V\n",
        "    offs_m = start_m + tl.arange(0, BLOCK_M)    # [BLOCK_M]\n",
        "    offs_n = tl.arange(0, BLOCK_N)              # [BLOCK_N]\n",
        "    offs_d = tl.arange(0, BLOCK_D)              # [BLOCK_D]\n",
        "\n",
        "    # Compute pointers into Q and output\n",
        "    Q_ptr_block = (\n",
        "        Q_ptr\n",
        "        + batch_id * stride_qb\n",
        "        + head_id  * stride_qh\n",
        "        + (offs_m[:, None] * stride_qs) # Added parentheses for clarity\n",
        "        + (offs_d[None, :] * stride_qd) # Added parentheses for clarity\n",
        "    )\n",
        "    O_ptr_block = (\n",
        "        Out_ptr\n",
        "        + batch_id * stride_ob\n",
        "        + head_id  * stride_oh\n",
        "        + (offs_m[:, None] * stride_os) # Added parentheses for clarity\n",
        "        + (offs_d[None, :] * stride_od) # Added parentheses for clarity\n",
        "    )\n",
        "\n",
        "    # Load Q [BLOCK_M, BLOCK_D]\n",
        "    # Ensure mask covers all elements within the block that are within bounds\n",
        "    Q = tl.load(Q_ptr_block, mask=(offs_m[:, None] < S) & (offs_d[None, :] < D), other=0.0)o\n",
        "\n",
        "\n",
        "    # Initialize accumulators & softmax state\n",
        "    acc = tl.zeros((BLOCK_M, BLOCK_D), dtype=tl.float32)\n",
        "    m_i = tl.full ((BLOCK_M,), float(\"-inf\"), dtype=tl.float32)\n",
        "    l_i = tl.zeros((BLOCK_M,), dtype=tl.float32)\n",
        "\n",
        "    # Scale factor 1/sqrt(D), using BLOCK_D as compile‐time constant\n",
        "    scale = 1.0 / tl.sqrt(float(BLOCK_D))\n",
        "\n",
        "    # Loop over key/value blocks\n",
        "    for start_n in range(0, S, BLOCK_N):\n",
        "        offs_k = start_n + tl.arange(0, BLOCK_N)\n",
        "\n",
        "        # ptrs for K and V blocks\n",
        "        K_ptr_block = (\n",
        "            K_ptr\n",
        "            + batch_id * stride_kb\n",
        "            + head_id  * stride_kh\n",
        "            + (offs_k[:, None] * stride_ks) # Added parentheses for clarity\n",
        "            + (offs_d[None, :] * stride_kd) # Added parentheses for clarity\n",
        "        )\n",
        "        V_ptr_block = (\n",
        "            V_ptr\n",
        "            + batch_id * stride_vb\n",
        "            + head_id  * stride_vh\n",
        "            + (offs_k[:, None] * stride_vs) # Added parentheses for clarity\n",
        "            + (offs_d[None, :] * stride_vd) # Added parentheses for clarity\n",
        "        )\n",
        "        # Load K and V blocks, ensure mask covers all elements within bounds\n",
        "        K = tl.load(K_ptr_block, mask=(offs_k[:, None] < S) & (offs_d[None, :] < D), other=0.0)\n",
        "        V = tl.load(V_ptr_block, mask=(offs_k[:, None] < S) & (offs_d[None, :] < D), other=0.0)\n",
        "\n",
        "\n",
        "        # Compute scaled dot‐product Q·Kᵀ\n",
        "        scores = tl.dot(Q, tl.trans(K)) * scale        # [BLOCK_M, BLOCK_N]\n",
        "\n",
        "        # Numerically stable softmax prep\n",
        "        m_ij = tl.max(scores, axis=1)                  # [BLOCK_M]\n",
        "        scores = scores - m_ij[:, None]\n",
        "\n",
        "        # Softmax numerator & sum\n",
        "        p_ij = tl.exp(scores)                          # [BLOCK_M, BLOCK_N]\n",
        "        l_ij = tl.sum(p_ij, axis=1)                    # [BLOCK_M]\n",
        "        acc_ij = tl.dot(p_ij, V)                       # [BLOCK_M, BLOCK_D]\n",
        "\n",
        "        # Online softmax update\n",
        "        m_i_new = tl.maximum(m_i, m_ij)\n",
        "        alpha   = tl.exp(m_i   - m_i_new)\n",
        "        beta    = tl.exp(m_ij  - m_i_new)\n",
        "        l_i_new = alpha * l_i + beta * l_ij\n",
        "\n",
        "        acc = acc * alpha[:, None] + acc_ij * beta[:, None]\n",
        "        m_i = m_i_new\n",
        "        l_i = l_i_new\n",
        "\n",
        "    # Final normalization & write‐back\n",
        "    O = acc / l_i[:, None]\n",
        "    # Ensure mask covers all elements within the output block that are within bounds\n",
        "    tl.store(O_ptr_block, O, mask=(offs_m[:, None] < S) & (offs_d[None, :] < D))"
      ],
      "metadata": {
        "id": "v2_W4lteiweG"
      },
      "execution_count": null,
      "outputs": []
    },
    {
      "cell_type": "code",
      "source": [
        "def run_flashattn2_triton(\n",
        "    q: torch.Tensor, k: torch.Tensor, v: torch.Tensor,\n",
        "    BLOCK_M: int = 128, BLOCK_N: int = 64\n",
        ") -> torch.Tensor:\n",
        "    \"\"\"\n",
        "    q,k,v: [B,H,S,D], cuda float32, contiguous\n",
        "    Returns out: [B,H,S,D]\n",
        "    \"\"\"\n",
        "    assert q.is_cuda and q.dtype == torch.float32\n",
        "    B, H, S, D = q.shape\n",
        "    out = torch.empty_like(q)\n",
        "\n",
        "    # extract strides\n",
        "    def strides(x):\n",
        "        return x.stride(0), x.stride(1), x.stride(2), x.stride(3)\n",
        "    sqb, sqh, sqs, sqd = strides(q)\n",
        "    skb, skh, sks, skd = strides(k)\n",
        "    svb, svh, svs, svd = strides(v)\n",
        "    sob, soh, sos, sod = strides(out)\n",
        "\n",
        "    # 3D grid: (batch, head, num_query_blocks)\n",
        "    grid = (B, H, triton.cdiv(S, BLOCK_M))\n",
        "\n",
        "    # launch\n",
        "    flashattn2_forward[grid](\n",
        "        q, k, v, out,\n",
        "        sqb, sqh, sqs, sqd,\n",
        "        skb, skh, sks, skd,\n",
        "        svb, svh, svs, svd,\n",
        "        sob, soh, sos, sod,\n",
        "        B, H, S, D,\n",
        "        BLOCK_M=BLOCK_M,\n",
        "        BLOCK_N=BLOCK_N,\n",
        "        BLOCK_D=D,    # must equal head‐dim\n",
        "    )\n",
        "    return out"
      ],
      "metadata": {
        "id": "niDgHDiBDmnU"
      },
      "execution_count": null,
      "outputs": []
    },
    {
      "cell_type": "markdown",
      "source": [
        "STEP 5: CHECK CORRECTNESS"
      ],
      "metadata": {
        "id": "q_2-alRNH9jp"
      }
    },
    {
      "cell_type": "code",
      "source": [
        "import torch\n",
        "\n",
        "B,H,S,D = 100,8,128,64\n",
        "\n",
        "q = torch.randn(B,H,S,D, device='cuda', dtype = torch.float32)\n",
        "k = torch.randn(B,H,S,D, device='cuda', dtype = torch.float32)\n",
        "v = torch.randn(B, H, S, D, device='cuda', dtype=torch.float32)\n",
        "print(\"Q shape:\", q.shape)\n",
        "\n",
        "out_pt = pytorch_attention(q, k, v)\n",
        "out_triton = run_flashattn2_triton(q, k, v)\n",
        "\n",
        "print(\"Output shape OK:\", out_pt.shape == out_triton.shape)\n",
        "\n",
        "print(\"Numerical match:\", torch.allclose(out_pt, out_triton, atol=5e-2, rtol=1e-2))\n",
        "print(\"Max abs error:\", (out_pt - out_triton).abs().max().item())\n",
        "\n",
        "print(\"out_pt[0, 0, 0, :5]:\", out_pt[0, 0, 0, :5])\n",
        "print(\"out_triton[0, 0, 0, :5]:\", out_triton[0, 0, 0, :5])\n",
        "print(\"diff:\", (out_pt - out_triton)[0, 0, 0, :5])"
      ],
      "metadata": {
        "colab": {
          "base_uri": "https://localhost:8080/"
        },
        "id": "eWSBxNK2IGIG",
        "outputId": "35412111-125f-4622-99e3-c0f976053514"
      },
      "execution_count": null,
      "outputs": [
        {
          "output_type": "stream",
          "name": "stdout",
          "text": [
            "Q shape: torch.Size([100, 8, 128, 64])\n",
            "Output shape OK: True\n",
            "Numerical match: True\n",
            "Max abs error: 0.0035746097564697266\n",
            "out_pt[0, 0, 0, :5]: tensor([ 0.0296, -0.2589,  0.0683,  0.1036, -0.0654], device='cuda:0')\n",
            "out_triton[0, 0, 0, :5]: tensor([ 0.0297, -0.2586,  0.0685,  0.1035, -0.0655], device='cuda:0')\n",
            "diff: tensor([-1.0759e-05, -2.4363e-04, -1.3004e-04,  5.5224e-05,  1.3515e-05],\n",
            "       device='cuda:0')\n"
          ]
        }
      ]
    },
    {
      "cell_type": "markdown",
      "source": [
        "STEP 6: BENCHMARKING PERFORMANCE"
      ],
      "metadata": {
        "id": "grAktJSKY4hg"
      }
    },
    {
      "cell_type": "code",
      "source": [
        "import torch\n",
        "import torch.cuda.nvtx as nvtx # Import NVTX\n",
        "import matplotlib.pyplot as plt\n",
        "\n",
        "def benchmark_attention(B=100, H=8, D=64, seqs=[64, 128, 256, 512, 1024, 2048]):\n",
        "    device = 'cuda'\n",
        "    results = []\n",
        "    for S in seqs:\n",
        "        q = torch.randn(B, H, S, D, device=device)\n",
        "        k = torch.randn_like(q)\n",
        "        v = torch.randn_like(q)\n",
        "\n",
        "        # Warm-up\n",
        "        _ = pytorch_attention(q, k, v); torch.cuda.synchronize()\n",
        "        _ = run_flashattn2_triton(q, k, v, BLOCK_M=64, BLOCK_N=64); torch.cuda.synchronize()\n",
        "\n",
        "        # Time PyTorch with NVTX range\n",
        "        nvtx.range_push(f\"PyTorch S={S}\")\n",
        "        start, end = torch.cuda.Event(True), torch.cuda.Event(True)\n",
        "        start.record(); _ = pytorch_attention(q, k, v); end.record()\n",
        "        torch.cuda.synchronize()\n",
        "        t_pt = start.elapsed_time(end)\n",
        "        nvtx.range_pop()\n",
        "\n",
        "        # Time Triton with NVTX range\n",
        "        nvtx.range_push(f\"Triton S={S}\")\n",
        "        start.record(); _ = run_flashattn2_triton(q, k, v, BLOCK_M=64, BLOCK_N=64); end.record()\n",
        "        torch.cuda.synchronize()\n",
        "        t_tr = start.elapsed_time(end)\n",
        "        nvtx.range_pop()\n",
        "\n",
        "        speedup = t_pt / t_tr\n",
        "        print(f\"S={S:4d} | PyTorch: {t_pt:6.2f}ms | Triton: {t_tr:6.2f}ms | Speedup: {speedup:4.1f}×\")\n",
        "        results.append((S, t_pt, t_tr, speedup))\n",
        "    return results"
      ],
      "metadata": {
        "id": "K2jAYnjUZFvC"
      },
      "execution_count": null,
      "outputs": []
    },
    {
      "cell_type": "markdown",
      "source": [
        "STEP 7- PLOTTING RESULTS"
      ],
      "metadata": {
        "id": "dGBGynMVZnfL"
      }
    },
    {
      "cell_type": "code",
      "source": [
        "bench = benchmark_attention()\n",
        "\n",
        "# Unpack for plotting\n",
        "Ss, t_pts, t_trs, speedups = zip(*bench)\n",
        "\n",
        "# Plot absolute times\n",
        "plt.figure(figsize=(6,4))\n",
        "plt.plot(Ss, t_pts, marker='o', label='PyTorch')\n",
        "plt.plot(Ss, t_trs, marker='s', label='FlashAttn2 Triton')\n",
        "plt.xlabel('Sequence length S')\n",
        "plt.ylabel('Time (ms)')\n",
        "plt.title('Attention Forward Pass: PyTorch vs FlashAttn2 Triton')\n",
        "plt.legend()\n",
        "plt.grid(True)\n",
        "plt.tight_layout()\n",
        "plt.show()\n",
        "\n",
        "# Plot speedup\n",
        "plt.figure(figsize=(6,4))\n",
        "plt.plot(Ss, speedups, marker='o', color='tab:green')\n",
        "plt.xlabel('Sequence length S')\n",
        "plt.ylabel('Speedup (PyTorch / Triton)')\n",
        "plt.title('FlashAttn2 Speedup over PyTorch')\n",
        "plt.grid(True)\n",
        "plt.tight_layout()\n",
        "plt.show()"
      ],
      "metadata": {
        "colab": {
          "base_uri": "https://localhost:8080/",
          "height": 901
        },
        "id": "urwH8U86Zqp1",
        "outputId": "266f32fb-c029-4e62-b353-8bcf5d957dda"
      },
      "execution_count": null,
      "outputs": [
        {
          "output_type": "stream",
          "name": "stdout",
          "text": [
            "S=  64 | PyTorch:   0.41ms | Triton:   0.27ms | Speedup:  1.6×\n",
            "S= 128 | PyTorch:   0.65ms | Triton:   0.32ms | Speedup:  2.0×\n",
            "S= 256 | PyTorch:   2.18ms | Triton:   0.73ms | Speedup:  3.0×\n",
            "S= 512 | PyTorch:   8.30ms | Triton:   2.34ms | Speedup:  3.6×\n",
            "S=1024 | PyTorch:  32.78ms | Triton:   8.15ms | Speedup:  4.0×\n",
            "S=2048 | PyTorch: 114.96ms | Triton:  24.18ms | Speedup:  4.8×\n"
          ]
        },
        {
          "output_type": "display_data",
          "data": {
            "text/plain": [
              "<Figure size 600x400 with 1 Axes>"
            ],
            "image/png": "[encoded data removed]"
          },
          "metadata": {}
        },
        {
          "output_type": "display_data",
          "data": {
            "text/plain": [
              "<Figure size 600x400 with 1 Axes>"
            ],
            "image/png": "[encoded data removed]"
          },
          "metadata": {}
        }
      ]
    },
    {
      "cell_type": "markdown",
      "source": [
        "### Create a python script from notebook cell"
      ],
      "metadata": {
        "id": "58xBaibxVUaY"
      }
    },
    {
      "cell_type": "code",
      "source": [
        "%%writefile flash_attention.py\n",
        "\n",
        "import torch\n",
        "import torch.nn as nn\n",
        "import triton\n",
        "import triton.language as tl\n",
        "import torch.cuda.nvtx as nvtx\n",
        "\n",
        "# =================================================================\n",
        "# STEP 3: PYTORCH ATTENTION BASELINE CODE\n",
        "# =================================================================\n",
        "def pytorch_attention(q, k, v, mask=None):\n",
        "  B, H, S, D = q.shape\n",
        "  scale = D**-0.5\n",
        "\n",
        "  attn_scores = torch.matmul(q, k.transpose(-2, -1)) * scale\n",
        "  if mask is not None:\n",
        "    attn_scores = attn_scores.masked_fill(mask[:, None, None, :] == 0, float('-inf'))\n",
        "\n",
        "  attn_probs = torch.softmax(attn_scores, dim=-1)\n",
        "  out = torch.matmul(attn_probs, v)\n",
        "  return out\n",
        "\n",
        "# =================================================================\n",
        "# STEP 4: FLASH ATTENTION 2 FORWARD PASS (TRITON KERNEL)\n",
        "# =================================================================\n",
        "@triton.jit\n",
        "def flashattn2_forward(\n",
        "    Q_ptr, K_ptr, V_ptr, Out_ptr,\n",
        "    stride_qb, stride_qh, stride_qs, stride_qd,\n",
        "    stride_kb, stride_kh, stride_ks, stride_kd,\n",
        "    stride_vb, stride_vh, stride_vs, stride_vd,\n",
        "    stride_ob, stride_oh, stride_os, stride_od,\n",
        "    B, H, S, D,\n",
        "    BLOCK_M: tl.constexpr,\n",
        "    BLOCK_N: tl.constexpr,\n",
        "    BLOCK_D: tl.constexpr\n",
        "):\n",
        "    batch_id = tl.program_id(0)\n",
        "    head_id  = tl.program_id(1)\n",
        "    start_m  = tl.program_id(2) * BLOCK_M\n",
        "\n",
        "    offs_m = start_m + tl.arange(0, BLOCK_M)\n",
        "    offs_n = tl.arange(0, BLOCK_N)\n",
        "    offs_d = tl.arange(0, BLOCK_D)\n",
        "\n",
        "    Q_ptr_block = (Q_ptr + batch_id * stride_qb + head_id * stride_qh + offs_m[:, None] * stride_qs + offs_d[None, :] * stride_qd)\n",
        "    O_ptr_block = (Out_ptr + batch_id * stride_ob + head_id * stride_oh + offs_m[:, None] * stride_os + offs_d[None, :] * stride_od)\n",
        "    Q = tl.load(Q_ptr_block, mask=offs_m[:, None] < S, other=0.0)\n",
        "\n",
        "    acc = tl.zeros((BLOCK_M, BLOCK_D), dtype=tl.float32)\n",
        "    m_i = tl.full((BLOCK_M,), float(\"-inf\"), dtype=tl.float32)\n",
        "    l_i = tl.zeros((BLOCK_M,), dtype=tl.float32)\n",
        "    scale = 1.0 / tl.sqrt(float(BLOCK_D))\n",
        "\n",
        "    for start_n in range(0, S, BLOCK_N):\n",
        "        offs_k = start_n + tl.arange(0, BLOCK_N)\n",
        "        K_ptr_block = (K_ptr + batch_id * stride_kb + head_id * stride_kh + offs_k[:, None] * stride_ks + offs_d[None, :] * stride_kd)\n",
        "        V_ptr_block = (V_ptr + batch_id * stride_vb + head_id * stride_vh + offs_k[:, None] * stride_vs + offs_d[None, :] * stride_vd)\n",
        "        K = tl.load(K_ptr_block, mask=offs_k[:, None] < S, other=0.0)\n",
        "        V = tl.load(V_ptr_block, mask=offs_k[:, None] < S, other=0.0)\n",
        "\n",
        "        scores = tl.dot(Q, tl.trans(K)) * scale\n",
        "        m_ij = tl.max(scores, axis=1)\n",
        "        scores = scores - m_ij[:, None]\n",
        "        p_ij = tl.exp(scores)\n",
        "        l_ij = tl.sum(p_ij, axis=1)\n",
        "        acc_ij = tl.dot(p_ij, V)\n",
        "        m_i_new = tl.maximum(m_i, m_ij)\n",
        "        alpha   = tl.exp(m_i - m_i_new)\n",
        "        beta    = tl.exp(m_ij - m_i_new)\n",
        "        l_i_new = alpha * l_i + beta * l_ij\n",
        "        acc = acc * alpha[:, None] + acc_ij * beta[:, None]\n",
        "        m_i = m_i_new\n",
        "        l_i = l_i_new\n",
        "\n",
        "    O = acc / l_i[:, None]\n",
        "    tl.store(O_ptr_block, O, mask=offs_m[:, None] < S)\n",
        "\n",
        "def run_flashattn2_triton(q, k, v, BLOCK_M=128, BLOCK_N=64):\n",
        "    B, H, S, D = q.shape\n",
        "    out = torch.empty_like(q)\n",
        "    strides = lambda x: (x.stride(0), x.stride(1), x.stride(2), x.stride(3))\n",
        "    grid = (B, H, triton.cdiv(S, BLOCK_M))\n",
        "    flashattn2_forward[grid](\n",
        "        q, k, v, out,\n",
        "        *strides(q), *strides(k), *strides(v), *strides(out),\n",
        "        B, H, S, D,\n",
        "        BLOCK_M=BLOCK_M, BLOCK_N=BLOCK_N, BLOCK_D=D\n",
        "    )\n",
        "    return out\n",
        "\n",
        "# =================================================================\n",
        "# STEP 6: BENCHMARKING PERFORMANCE (MODIFIED FOR PROFILING)\n",
        "# =================================================================\n",
        "def benchmark_attention(B=100, H=8, D=64, seqs=[1024]):\n",
        "    device = 'cuda'\n",
        "    for S in seqs:\n",
        "        print(f\"Profiling S={S:4d}...\")\n",
        "        q = torch.randn(B, H, S, D, device=device)\n",
        "        k = torch.randn_like(q)\n",
        "        v = torch.randn_like(q)\n",
        "\n",
        "        # PyTorch with NVTX range\n",
        "        nvtx.range_push(f\"PyTorch S={S}\")\n",
        "        _ = pytorch_attention(q, k, v)\n",
        "        torch.cuda.synchronize()\n",
        "        nvtx.range_pop()\n",
        "\n",
        "        # Triton with NVTX range\n",
        "        nvtx.range_push(f\"Triton S={S}\")\n",
        "        _ = run_flashattn2_triton(q, k, v, BLOCK_M=64, BLOCK_N=64)\n",
        "        torch.cuda.synchronize()\n",
        "        nvtx.range_pop()\n",
        "\n",
        "# =================================================================\n",
        "# MAIN EXECUTION\n",
        "# =================================================================\n",
        "if __name__ == \"__main__\":\n",
        "    # First, ensure you have installed Triton\n",
        "    # pip install triton\n",
        "    print(\"Starting benchmark for profiling...\")\n",
        "    benchmark_attention()\n",
        "    print(\"Profiling benchmark finished.\")"
      ],
      "metadata": {
        "colab": {
          "base_uri": "https://localhost:8080/"
        },
        "id": "9SdFQxOLVSGc",
        "outputId": "b37521cb-26f6-402e-8e4d-1338b1d5fe0c"
      },
      "execution_count": null,
      "outputs": [
        {
          "output_type": "stream",
          "name": "stdout",
          "text": [
            "Writing flash_attention.py\n"
          ]
        }
      ]
    },
    {
      "cell_type": "code",
      "source": [
        "!nsys profile --trace=cuda,nvtx -o flash_attention_report python flash_attention.py"
      ],
      "metadata": {
        "id": "31raK5m4VfCm",
        "outputId": "a75a20fb-4fe2-43eb-cb00-2edd8f660dac",
        "colab": {
          "base_uri": "https://localhost:8080/"
        }
      },
      "execution_count": null,
      "outputs": [
        {
          "output_type": "stream",
          "name": "stdout",
          "text": [
            "Starting benchmark for profiling...\n",
            "Profiling S=  64...\n",
            "Profiling S= 128...\n",
            "Profiling S= 256...\n",
            "Profiling S= 512...\n",
            "Profiling S=1024...\n",
            "Profiling S=2048...\n",
            "Profiling benchmark finished.\n",
            "Generating '/tmp/nsys-report-7ac5.qdstrm'\n",
            "[1/1] [========================100%] flash_attention_report.nsys-rep\n",
            "Generated:\n",
            "    /content/flash_attention_report.nsys-rep\n"
          ]
        }
      ]
    },
    {
      "cell_type": "code",
      "source": [
        "# This command tells ncu to find the NVTX range named \"Triton S=1024\"\n",
        "# and profile the kernels inside it. We save the report to a file.\n",
        "\n",
        "!ncu --nvtx --nvtx-include \"Triton S=1024/\" -o triton_kernel_report.ncu-rep python flash_attention.py"
      ],
      "metadata": {
        "id": "AUmFqZmjVff2",
        "colab": {
          "base_uri": "https://localhost:8080/"
        },
        "outputId": "0996d6d9-e1b7-46bf-a92c-f5c33f1c3068"
      },
      "execution_count": null,
      "outputs": [
        {
          "output_type": "stream",
          "name": "stdout",
          "text": [
            "Starting benchmark for profiling...\n",
            "Profiling S=  64...\n",
            "==PROF== Connected to process 6219 (/usr/bin/python3.11)\n",
            "Profiling S= 128...\n",
            "Profiling S= 256...\n",
            "Profiling S= 512...\n",
            "Profiling S=1024...\n",
            "==PROF== Profiling \"flashattn2_forward\" - 0: 0%\n",
            "==WARNING== Backing up device memory in system memory. Kernel replay might be slow. Consider using \"--replay-mode application\" to avoid memory save-and-restore.\n",
            "....50%....100% - 10 passes\n",
            "Profiling S=2048...\n",
            "Profiling benchmark finished.\n",
            "==PROF== Disconnected from process 6219\n",
            "==PROF== Report: /content/triton_kernel_report.ncu-rep\n"
          ]
        }
      ]
    },
    {
      "cell_type": "code",
      "source": [],
      "metadata": {
        "id": "FoTl20WpoYqR"
      },
      "execution_count": null,
      "outputs": []
    }
  ]
}